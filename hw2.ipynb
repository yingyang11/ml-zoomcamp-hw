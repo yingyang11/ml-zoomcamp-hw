{
 "cells": [
  {
   "cell_type": "code",
   "execution_count": 1,
   "id": "a5e582ce",
   "metadata": {},
   "outputs": [
    {
     "name": "stdout",
     "output_type": "stream",
     "text": [
      "--2025-09-27 08:48:51--  https://raw.githubusercontent.com/alexeygrigorev/datasets/master/car_fuel_efficiency.csv\n",
      "Resolving raw.githubusercontent.com (raw.githubusercontent.com)... 2606:50c0:8000::154, 2606:50c0:8002::154, 2606:50c0:8003::154, ...\n",
      "Connecting to raw.githubusercontent.com (raw.githubusercontent.com)|2606:50c0:8000::154|:443... connected.\n",
      "HTTP request sent, awaiting response... 200 OK\n",
      "Length: 874188 (854K) [text/plain]\n",
      "Saving to: ‘car_fuel_efficiency.csv’\n",
      "\n",
      "car_fuel_efficiency 100%[===================>] 853.70K  --.-KB/s    in 0.08s   \n",
      "\n",
      "2025-09-27 08:48:52 (10.1 MB/s) - ‘car_fuel_efficiency.csv’ saved [874188/874188]\n",
      "\n"
     ]
    }
   ],
   "source": [
    "!wget https://raw.githubusercontent.com/alexeygrigorev/datasets/master/car_fuel_efficiency.csv"
   ]
  },
  {
   "cell_type": "code",
   "execution_count": 17,
   "id": "3bd62df4",
   "metadata": {},
   "outputs": [],
   "source": [
    "import pandas as pd\n",
    "import numpy as np\n",
    "\n",
    "import matplotlib.pyplot as plt\n",
    "import seaborn as sns"
   ]
  },
  {
   "cell_type": "code",
   "execution_count": 18,
   "id": "080bba47",
   "metadata": {},
   "outputs": [
    {
     "data": {
      "text/html": [
       "<div>\n",
       "<style scoped>\n",
       "    .dataframe tbody tr th:only-of-type {\n",
       "        vertical-align: middle;\n",
       "    }\n",
       "\n",
       "    .dataframe tbody tr th {\n",
       "        vertical-align: top;\n",
       "    }\n",
       "\n",
       "    .dataframe thead th {\n",
       "        text-align: right;\n",
       "    }\n",
       "</style>\n",
       "<table border=\"1\" class=\"dataframe\">\n",
       "  <thead>\n",
       "    <tr style=\"text-align: right;\">\n",
       "      <th></th>\n",
       "      <th>engine_displacement</th>\n",
       "      <th>num_cylinders</th>\n",
       "      <th>horsepower</th>\n",
       "      <th>vehicle_weight</th>\n",
       "      <th>acceleration</th>\n",
       "      <th>model_year</th>\n",
       "      <th>origin</th>\n",
       "      <th>fuel_type</th>\n",
       "      <th>drivetrain</th>\n",
       "      <th>num_doors</th>\n",
       "      <th>fuel_efficiency_mpg</th>\n",
       "    </tr>\n",
       "  </thead>\n",
       "  <tbody>\n",
       "    <tr>\n",
       "      <th>0</th>\n",
       "      <td>170</td>\n",
       "      <td>3.0</td>\n",
       "      <td>159.0</td>\n",
       "      <td>3413.433759</td>\n",
       "      <td>17.7</td>\n",
       "      <td>2003</td>\n",
       "      <td>Europe</td>\n",
       "      <td>Gasoline</td>\n",
       "      <td>All-wheel drive</td>\n",
       "      <td>0.0</td>\n",
       "      <td>13.231729</td>\n",
       "    </tr>\n",
       "    <tr>\n",
       "      <th>1</th>\n",
       "      <td>130</td>\n",
       "      <td>5.0</td>\n",
       "      <td>97.0</td>\n",
       "      <td>3149.664934</td>\n",
       "      <td>17.8</td>\n",
       "      <td>2007</td>\n",
       "      <td>USA</td>\n",
       "      <td>Gasoline</td>\n",
       "      <td>Front-wheel drive</td>\n",
       "      <td>0.0</td>\n",
       "      <td>13.688217</td>\n",
       "    </tr>\n",
       "    <tr>\n",
       "      <th>2</th>\n",
       "      <td>170</td>\n",
       "      <td>NaN</td>\n",
       "      <td>78.0</td>\n",
       "      <td>3079.038997</td>\n",
       "      <td>15.1</td>\n",
       "      <td>2018</td>\n",
       "      <td>Europe</td>\n",
       "      <td>Gasoline</td>\n",
       "      <td>Front-wheel drive</td>\n",
       "      <td>0.0</td>\n",
       "      <td>14.246341</td>\n",
       "    </tr>\n",
       "    <tr>\n",
       "      <th>3</th>\n",
       "      <td>220</td>\n",
       "      <td>4.0</td>\n",
       "      <td>NaN</td>\n",
       "      <td>2542.392402</td>\n",
       "      <td>20.2</td>\n",
       "      <td>2009</td>\n",
       "      <td>USA</td>\n",
       "      <td>Diesel</td>\n",
       "      <td>All-wheel drive</td>\n",
       "      <td>2.0</td>\n",
       "      <td>16.912736</td>\n",
       "    </tr>\n",
       "    <tr>\n",
       "      <th>4</th>\n",
       "      <td>210</td>\n",
       "      <td>1.0</td>\n",
       "      <td>140.0</td>\n",
       "      <td>3460.870990</td>\n",
       "      <td>14.4</td>\n",
       "      <td>2009</td>\n",
       "      <td>Europe</td>\n",
       "      <td>Gasoline</td>\n",
       "      <td>All-wheel drive</td>\n",
       "      <td>2.0</td>\n",
       "      <td>12.488369</td>\n",
       "    </tr>\n",
       "  </tbody>\n",
       "</table>\n",
       "</div>"
      ],
      "text/plain": [
       "   engine_displacement  num_cylinders  horsepower  vehicle_weight  \\\n",
       "0                  170            3.0       159.0     3413.433759   \n",
       "1                  130            5.0        97.0     3149.664934   \n",
       "2                  170            NaN        78.0     3079.038997   \n",
       "3                  220            4.0         NaN     2542.392402   \n",
       "4                  210            1.0       140.0     3460.870990   \n",
       "\n",
       "   acceleration  model_year  origin fuel_type         drivetrain  num_doors  \\\n",
       "0          17.7        2003  Europe  Gasoline    All-wheel drive        0.0   \n",
       "1          17.8        2007     USA  Gasoline  Front-wheel drive        0.0   \n",
       "2          15.1        2018  Europe  Gasoline  Front-wheel drive        0.0   \n",
       "3          20.2        2009     USA    Diesel    All-wheel drive        2.0   \n",
       "4          14.4        2009  Europe  Gasoline    All-wheel drive        2.0   \n",
       "\n",
       "   fuel_efficiency_mpg  \n",
       "0            13.231729  \n",
       "1            13.688217  \n",
       "2            14.246341  \n",
       "3            16.912736  \n",
       "4            12.488369  "
      ]
     },
     "execution_count": 18,
     "metadata": {},
     "output_type": "execute_result"
    }
   ],
   "source": [
    "data = pd.read_csv(\"car_fuel_efficiency.csv\")\n",
    "data.head()"
   ]
  },
  {
   "cell_type": "code",
   "execution_count": 19,
   "id": "4a613219",
   "metadata": {},
   "outputs": [],
   "source": [
    "columns_to_train = [\n",
    "    'engine_displacement',\n",
    "    'horsepower',\n",
    "    'vehicle_weight',\n",
    "    'model_year',\n",
    "    'fuel_efficiency_mpg'\n",
    "]"
   ]
  },
  {
   "cell_type": "code",
   "execution_count": 20,
   "id": "ed2b8109",
   "metadata": {},
   "outputs": [
    {
     "data": {
      "text/plain": [
       "['num_cylinders',\n",
       " 'acceleration',\n",
       " 'origin',\n",
       " 'fuel_type',\n",
       " 'drivetrain',\n",
       " 'num_doors']"
      ]
     },
     "execution_count": 20,
     "metadata": {},
     "output_type": "execute_result"
    }
   ],
   "source": [
    "[c for c in data.columns if c not in columns_to_train]"
   ]
  },
  {
   "cell_type": "code",
   "execution_count": 21,
   "id": "9fbc8e07",
   "metadata": {},
   "outputs": [
    {
     "data": {
      "text/html": [
       "<div>\n",
       "<style scoped>\n",
       "    .dataframe tbody tr th:only-of-type {\n",
       "        vertical-align: middle;\n",
       "    }\n",
       "\n",
       "    .dataframe tbody tr th {\n",
       "        vertical-align: top;\n",
       "    }\n",
       "\n",
       "    .dataframe thead th {\n",
       "        text-align: right;\n",
       "    }\n",
       "</style>\n",
       "<table border=\"1\" class=\"dataframe\">\n",
       "  <thead>\n",
       "    <tr style=\"text-align: right;\">\n",
       "      <th></th>\n",
       "      <th>engine_displacement</th>\n",
       "      <th>horsepower</th>\n",
       "      <th>vehicle_weight</th>\n",
       "      <th>model_year</th>\n",
       "      <th>fuel_efficiency_mpg</th>\n",
       "    </tr>\n",
       "  </thead>\n",
       "  <tbody>\n",
       "    <tr>\n",
       "      <th>0</th>\n",
       "      <td>170</td>\n",
       "      <td>159.0</td>\n",
       "      <td>3413.433759</td>\n",
       "      <td>2003</td>\n",
       "      <td>13.231729</td>\n",
       "    </tr>\n",
       "    <tr>\n",
       "      <th>1</th>\n",
       "      <td>130</td>\n",
       "      <td>97.0</td>\n",
       "      <td>3149.664934</td>\n",
       "      <td>2007</td>\n",
       "      <td>13.688217</td>\n",
       "    </tr>\n",
       "    <tr>\n",
       "      <th>2</th>\n",
       "      <td>170</td>\n",
       "      <td>78.0</td>\n",
       "      <td>3079.038997</td>\n",
       "      <td>2018</td>\n",
       "      <td>14.246341</td>\n",
       "    </tr>\n",
       "    <tr>\n",
       "      <th>3</th>\n",
       "      <td>220</td>\n",
       "      <td>NaN</td>\n",
       "      <td>2542.392402</td>\n",
       "      <td>2009</td>\n",
       "      <td>16.912736</td>\n",
       "    </tr>\n",
       "    <tr>\n",
       "      <th>4</th>\n",
       "      <td>210</td>\n",
       "      <td>140.0</td>\n",
       "      <td>3460.870990</td>\n",
       "      <td>2009</td>\n",
       "      <td>12.488369</td>\n",
       "    </tr>\n",
       "    <tr>\n",
       "      <th>...</th>\n",
       "      <td>...</td>\n",
       "      <td>...</td>\n",
       "      <td>...</td>\n",
       "      <td>...</td>\n",
       "      <td>...</td>\n",
       "    </tr>\n",
       "    <tr>\n",
       "      <th>9699</th>\n",
       "      <td>140</td>\n",
       "      <td>164.0</td>\n",
       "      <td>2981.107371</td>\n",
       "      <td>2013</td>\n",
       "      <td>15.101802</td>\n",
       "    </tr>\n",
       "    <tr>\n",
       "      <th>9700</th>\n",
       "      <td>180</td>\n",
       "      <td>154.0</td>\n",
       "      <td>2439.525729</td>\n",
       "      <td>2004</td>\n",
       "      <td>17.962326</td>\n",
       "    </tr>\n",
       "    <tr>\n",
       "      <th>9701</th>\n",
       "      <td>220</td>\n",
       "      <td>138.0</td>\n",
       "      <td>2583.471318</td>\n",
       "      <td>2008</td>\n",
       "      <td>17.186587</td>\n",
       "    </tr>\n",
       "    <tr>\n",
       "      <th>9702</th>\n",
       "      <td>230</td>\n",
       "      <td>177.0</td>\n",
       "      <td>2905.527390</td>\n",
       "      <td>2011</td>\n",
       "      <td>15.331551</td>\n",
       "    </tr>\n",
       "    <tr>\n",
       "      <th>9703</th>\n",
       "      <td>270</td>\n",
       "      <td>140.0</td>\n",
       "      <td>2908.043477</td>\n",
       "      <td>2005</td>\n",
       "      <td>14.884467</td>\n",
       "    </tr>\n",
       "  </tbody>\n",
       "</table>\n",
       "<p>9704 rows × 5 columns</p>\n",
       "</div>"
      ],
      "text/plain": [
       "      engine_displacement  horsepower  vehicle_weight  model_year  \\\n",
       "0                     170       159.0     3413.433759        2003   \n",
       "1                     130        97.0     3149.664934        2007   \n",
       "2                     170        78.0     3079.038997        2018   \n",
       "3                     220         NaN     2542.392402        2009   \n",
       "4                     210       140.0     3460.870990        2009   \n",
       "...                   ...         ...             ...         ...   \n",
       "9699                  140       164.0     2981.107371        2013   \n",
       "9700                  180       154.0     2439.525729        2004   \n",
       "9701                  220       138.0     2583.471318        2008   \n",
       "9702                  230       177.0     2905.527390        2011   \n",
       "9703                  270       140.0     2908.043477        2005   \n",
       "\n",
       "      fuel_efficiency_mpg  \n",
       "0               13.231729  \n",
       "1               13.688217  \n",
       "2               14.246341  \n",
       "3               16.912736  \n",
       "4               12.488369  \n",
       "...                   ...  \n",
       "9699            15.101802  \n",
       "9700            17.962326  \n",
       "9701            17.186587  \n",
       "9702            15.331551  \n",
       "9703            14.884467  \n",
       "\n",
       "[9704 rows x 5 columns]"
      ]
     },
     "execution_count": 21,
     "metadata": {},
     "output_type": "execute_result"
    }
   ],
   "source": [
    "data.drop(columns=[c for c in data.columns if c not in columns_to_train], inplace=True)\n",
    "data"
   ]
  },
  {
   "cell_type": "code",
   "execution_count": 22,
   "id": "a977704f",
   "metadata": {},
   "outputs": [
    {
     "data": {
      "text/plain": [
       "<Axes: xlabel='fuel_efficiency_mpg', ylabel='Count'>"
      ]
     },
     "execution_count": 22,
     "metadata": {},
     "output_type": "execute_result"
    },
    {
     "data": {
      "image/png": "[encoded data removed]",
      "text/plain": [
       "<Figure size 640x480 with 1 Axes>"
      ]
     },
     "metadata": {},
     "output_type": "display_data"
    }
   ],
   "source": [
    "sns.histplot(data.fuel_efficiency_mpg)"
   ]
  },
  {
   "cell_type": "code",
   "execution_count": 23,
   "id": "f75bf173",
   "metadata": {},
   "outputs": [
    {
     "data": {
      "text/plain": [
       "engine_displacement      0\n",
       "horsepower             708\n",
       "vehicle_weight           0\n",
       "model_year               0\n",
       "fuel_efficiency_mpg      0\n",
       "dtype: int64"
      ]
     },
     "execution_count": 23,
     "metadata": {},
     "output_type": "execute_result"
    }
   ],
   "source": [
    "data.isna().sum()"
   ]
  },
  {
   "cell_type": "code",
   "execution_count": 24,
   "id": "36f91b6b",
   "metadata": {},
   "outputs": [
    {
     "data": {
      "text/plain": [
       "np.float64(149.0)"
      ]
     },
     "execution_count": 24,
     "metadata": {},
     "output_type": "execute_result"
    }
   ],
   "source": [
    "data.horsepower.median()"
   ]
  },
  {
   "cell_type": "code",
   "execution_count": null,
   "id": "1546d00a",
   "metadata": {},
   "outputs": [
    {
     "data": {
      "text/plain": [
       "(29120, 9700, 9700)"
      ]
     },
     "execution_count": 149,
     "metadata": {},
     "output_type": "execute_result"
    }
   ],
   "source": [
    "n = len(data)  # Use the number of rows in the DataFrame\n",
    "n_test = int(n * 0.2)\n",
    "n_val = int(n * 0.2)\n",
    "n_train = n - n_test - n_val\n",
    "\n",
    "idx = np.arange(n)\n",
    "\n",
    "np.random.seed(9)\n",
    "np.random.shuffle(idx)\n",
    "\n",
    "df_train = data.iloc[idx[:n_train]]\n",
    "df_test = data.iloc[idx[n_train:n_train+n_test]]\n",
    "df_val = data.iloc[idx[n_train+n_test:]]\n",
    "\n",
    "df_train.size, df_test.size, df_val.size"
   ]
  },
  {
   "cell_type": "code",
   "execution_count": null,
   "id": "29f5cd7c",
   "metadata": {},
   "outputs": [
    {
     "data": {
      "text/plain": [
       "(<module 'numpy' from '/Users/purujitb/workspace/ml-zoomcamp-hw/.venv/lib/python3.13/site-packages/numpy/__init__.py'>,\n",
       " np.float64(0.007))"
      ]
     },
     "execution_count": 184,
     "metadata": {},
     "output_type": "execute_result"
    }
   ],
   "source": [
    "n = len(data)\n",
    "n_test = int(n * 0.2)\n",
    "n_val = int(n * 0.2)\n",
    "n_train = n - n_test - n_val\n",
    "\n",
    "idx = np.arange(n)\n",
    "\n",
    "def train_lr(X, y, r):\n",
    "    return np.dot(np.linalg.inv(X.T.dot(X) + (r * np.eye(X.shape[1]))), np.dot(X.T, y))\n",
    "\n",
    "def lin_reg(X, W):\n",
    "    return X.dot(W)\n",
    "\n",
    "def rmse_me(y, y_pred):\n",
    "    return np.round(np.sqrt(((y - y_pred)**2).mean()), 3)\n",
    "\n",
    "rmse_list = []\n",
    "for seed in range(10):\n",
    "    np.random.seed(seed)\n",
    "    np.random.shuffle(idx)\n",
    "\n",
    "    df_train = data.iloc[idx[:n_train]]\n",
    "    df_test = data.iloc[idx[n_train:n_train+n_test]]\n",
    "    df_val = data.iloc[idx[n_train+n_test:]]\n",
    "\n",
    "    df_train_0 = df_train.copy()\n",
    "    df_train_0.horsepower = df_train_0.horsepower.fillna(0)\n",
    "\n",
    "    X_0 = df_train_0.iloc[:, :-1].values\n",
    "    ones = np.ones(X_0.shape[0])\n",
    "    X_0 = np.column_stack([ones, X_0])\n",
    "    y_0 = df_train_0.iloc[:, -1:].values\n",
    "\n",
    "    df_val_0 = df_val.copy()\n",
    "    df_val_0.horsepower = df_val_0.horsepower.fillna(0)\n",
    "\n",
    "    X_val = df_val_0.iloc[:, :-1].values\n",
    "    ones = np.ones(X_val.shape[0])\n",
    "    X_val = np.column_stack([ones, X_val])\n",
    "    y_val = df_val_0.iloc[:, -1:].values\n",
    "\n",
    "    W_0 = train_lr(X_0, y_0, 0)\n",
    "\n",
    "    rmse_list.append(rmse_me(lin_reg(X_val, train_lr(X_0, y_0, 0)), y_val))\n",
    "\n",
    "np,round(np.std(rmse_list), 3)"
   ]
  },
  {
   "cell_type": "code",
   "execution_count": 185,
   "id": "521d14df",
   "metadata": {},
   "outputs": [
    {
     "name": "stdout",
     "output_type": "stream",
     "text": [
      "0.516\n"
     ]
    }
   ],
   "source": [
    "n = len(data)\n",
    "n_test = int(n * 0.2)\n",
    "n_train = n - n_test\n",
    "\n",
    "idx = np.arange(n)\n",
    "\n",
    "def train_lr(X, y, r):\n",
    "    return np.dot(np.linalg.inv(X.T.dot(X) + (r * np.eye(X.shape[1]))), np.dot(X.T, y))\n",
    "\n",
    "def lin_reg(X, W):\n",
    "    return X.dot(W)\n",
    "\n",
    "def rmse_me(y, y_pred):\n",
    "    return np.round(np.sqrt(((y - y_pred)**2).mean()), 3)\n",
    "\n",
    "for seed in [9]:\n",
    "    np.random.seed(seed)\n",
    "    np.random.shuffle(idx)\n",
    "\n",
    "    df_train = data.iloc[idx[:n_train]]\n",
    "    df_test = data.iloc[idx[n_train:]]\n",
    "\n",
    "    df_train_0 = df_train.copy()\n",
    "    df_train_0.horsepower = df_train_0.horsepower.fillna(0)\n",
    "\n",
    "    X_0 = df_train_0.iloc[:, :-1].values\n",
    "    ones = np.ones(X_0.shape[0])\n",
    "    X_0 = np.column_stack([ones, X_0])\n",
    "    y_0 = df_train_0.iloc[:, -1:].values\n",
    "\n",
    "    df_test_0 = df_test.copy()\n",
    "    df_test_0.horsepower = df_test_0.horsepower.fillna(0)\n",
    "\n",
    "    X_test = df_test_0.iloc[:, :-1].values\n",
    "    ones = np.ones(X_test.shape[0])\n",
    "    X_test = np.column_stack([ones, X_test])\n",
    "    y_test = df_test_0.iloc[:, -1:].values\n",
    "\n",
    "    W_0 = train_lr(X_0, y_0, 0)\n",
    "\n",
    "    print(rmse_me(lin_reg(X_test, train_lr(X_0, y_0, 0.001)), y_test))"
   ]
  },
  {
   "cell_type": "code",
   "execution_count": 150,
   "id": "72b7996b",
   "metadata": {},
   "outputs": [],
   "source": [
    "df_train_0 = df_train.copy()\n",
    "df_train_0.horsepower = df_train_0.horsepower.fillna(0)\n",
    "\n",
    "orig_mean = df_train['horsepower'].mean()\n",
    "df_train_mean = df_train.copy()\n",
    "df_train_mean.horsepower = df_train_mean.horsepower.fillna(df_train.horsepower.mean())"
   ]
  },
  {
   "cell_type": "code",
   "execution_count": 151,
   "id": "d76a78e8",
   "metadata": {},
   "outputs": [
    {
     "data": {
      "text/plain": [
       "(np.float64(149.696587537092),\n",
       " np.float64(138.59271978021977),\n",
       " np.float64(149.69658753709197))"
      ]
     },
     "execution_count": 151,
     "metadata": {},
     "output_type": "execute_result"
    }
   ],
   "source": [
    "df_train.horsepower.mean(), df_train_0.horsepower.mean(), df_train_mean.horsepower.mean()"
   ]
  },
  {
   "cell_type": "code",
   "execution_count": 153,
   "id": "3f64f00a",
   "metadata": {},
   "outputs": [],
   "source": [
    "def rmse_me(y, y_pred):\n",
    "    return np.round(np.sqrt(((y - y_pred)**2).mean()), 3)"
   ]
  },
  {
   "cell_type": "code",
   "execution_count": 154,
   "id": "a08cc3d7",
   "metadata": {},
   "outputs": [
    {
     "data": {
      "text/plain": [
       "(array([[1.00000000e+00, 2.40000000e+02, 1.36000000e+02, 4.05051229e+03,\n",
       "         2.00600000e+03],\n",
       "        [1.00000000e+00, 1.90000000e+02, 1.41000000e+02, 3.19586694e+03,\n",
       "         2.01700000e+03],\n",
       "        [1.00000000e+00, 2.00000000e+02, 1.84000000e+02, 3.00616437e+03,\n",
       "         2.01700000e+03],\n",
       "        ...,\n",
       "        [1.00000000e+00, 2.10000000e+02, 1.58000000e+02, 3.76675310e+03,\n",
       "         2.01500000e+03],\n",
       "        [1.00000000e+00, 1.40000000e+02, 1.66000000e+02, 2.68314783e+03,\n",
       "         2.00800000e+03],\n",
       "        [1.00000000e+00, 2.00000000e+02, 1.64000000e+02, 2.37993849e+03,\n",
       "         2.00400000e+03]], shape=(5824, 5)),\n",
       " array([[10.30469994],\n",
       "        [13.47943378],\n",
       "        [16.19065297],\n",
       "        ...,\n",
       "        [10.59243514],\n",
       "        [17.11926051],\n",
       "        [18.11450381]], shape=(5824, 1)))"
      ]
     },
     "execution_count": 154,
     "metadata": {},
     "output_type": "execute_result"
    }
   ],
   "source": [
    "X_0 = df_train_0.iloc[:, :-1].values\n",
    "ones = np.ones(X_0.shape[0])\n",
    "X_0 = np.column_stack([ones, X_0])\n",
    "y_0 = df_train_0.iloc[:, -1:].values\n",
    "X_mean = df_train_mean.iloc[:, :-1].values\n",
    "X_mean = np.column_stack([ones, X_mean])\n",
    "y_mean = df_train_mean.iloc[:, -1:].values\n",
    "X_0, y_0"
   ]
  },
  {
   "cell_type": "code",
   "execution_count": 155,
   "id": "3604f31d",
   "metadata": {},
   "outputs": [
    {
     "data": {
      "text/plain": [
       "(array([[ 2.75138526e+01],\n",
       "        [-7.49245681e-05],\n",
       "        [ 3.51310422e-03],\n",
       "        [-5.02056083e-03],\n",
       "        [ 1.02939922e-03]]),\n",
       " array([[ 2.76725755e+01],\n",
       "        [ 7.55264124e-05],\n",
       "        [ 1.00350250e-02],\n",
       "        [-5.02056898e-03],\n",
       "        [ 4.30803050e-04]]))"
      ]
     },
     "execution_count": 155,
     "metadata": {},
     "output_type": "execute_result"
    }
   ],
   "source": [
    "def train_lr(X, y, r):\n",
    "    return np.dot(np.linalg.inv(X.T.dot(X) + (r * np.eye(X.shape[1]))), np.dot(X.T, y))\n",
    "\n",
    "W_0 = train_lr(X_0, y_0, 0)\n",
    "W_mean = train_lr(X_mean, y_mean, 0)\n",
    "W_0, W_mean"
   ]
  },
  {
   "cell_type": "code",
   "execution_count": null,
   "id": "2b4622aa",
   "metadata": {},
   "outputs": [
    {
     "name": "stdout",
     "output_type": "stream",
     "text": [
      "0.522\n"
     ]
    }
   ],
   "source": [
    "def lin_reg(X, W):\n",
    "    return X.dot(W)\n",
    "\n",
    "\n",
    "# for r in [0, 0.01, 0.1, 1, 5, 10, 100]:\n",
    "#     print(rmse_me(lin_reg(X_0, train_lr(X_0, y_0, r)), y_0))\n",
    "print(rmse_me(lin_reg(X_0, train_lr(X_0, y_0, 0)), y_0))\n",
    "# rmse_me(lin_reg(X_0, train_lr(X_0, y_0, 0)), y_0), rmse_me(lin_reg(X_0, train_lr(X_0, y_0, 0.01)), y_0), rmse_me(lin_reg(X_0, train_lr(X_0, y_0, 1)), y_0), rmse_me(lin_reg(X_0, train_lr(X_0, y_0, 10)), y_0), rmse_me(lin_reg(X_0, train_lr(X_0, y_0, 100)), y_0)"
   ]
  },
  {
   "cell_type": "code",
   "execution_count": 158,
   "id": "cc7a85fb",
   "metadata": {},
   "outputs": [
    {
     "data": {
      "text/plain": [
       "np.float64(0.004)"
      ]
     },
     "execution_count": 158,
     "metadata": {},
     "output_type": "execute_result"
    }
   ],
   "source": [
    "round(np.array([0.517, 0.515, 0.521, 0.52, 0.517, 0.517, 0.52, 0.512, 0.525, 0.524, 0.522]).std(), 3)"
   ]
  },
  {
   "cell_type": "code",
   "execution_count": null,
   "id": "9a504df7",
   "metadata": {},
   "outputs": [],
   "source": []
  }
 ],
 "metadata": {
  "kernelspec": {
   "display_name": "ml-zoomcamp-hw (3.13.2)",
   "language": "python",
   "name": "python3"
  },
  "language_info": {
   "codemirror_mode": {
    "name": "ipython",
    "version": 3
   },
   "file_extension": ".py",
   "mimetype": "text/x-python",
   "name": "python",
   "nbconvert_exporter": "python",
   "pygments_lexer": "ipython3",
   "version": "3.13.2"
  }
 },
 "nbformat": 4,
 "nbformat_minor": 5
}
